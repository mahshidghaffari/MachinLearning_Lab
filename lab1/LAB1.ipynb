{
 "cells": [
  {
   "cell_type": "markdown",
   "id": "dbef12f6",
   "metadata": {},
   "source": [
    "# LAB 1          Mahshid Ghaffari i6255207"
   ]
  },
  {
   "cell_type": "code",
   "execution_count": 90,
   "id": "4086c017",
   "metadata": {},
   "outputs": [],
   "source": [
    "import pandas as pd\n",
    "from sklearn import tree\n",
    "from sklearn.metrics import accuracy_score\n",
    "from sklearn.model_selection import train_test_split\n",
    "import matplotlib.pyplot as plt"
   ]
  },
  {
   "cell_type": "markdown",
   "id": "5f93f8fd",
   "metadata": {},
   "source": [
    "# 1.1) one-level decition tree ( diabetes data )\n",
    "with max_depth 1"
   ]
  },
  {
   "cell_type": "code",
   "execution_count": 91,
   "id": "1ceff95e",
   "metadata": {},
   "outputs": [
    {
     "name": "stdout",
     "output_type": "stream",
     "text": [
      "Accuracy of the train data: 0.7648221343873518\n",
      "Accuracy of the test data: 0.7213740458015268\n"
     ]
    }
   ],
   "source": [
    "data = pd.read_csv('diabetes.csv')\n",
    "Y = data['class']\n",
    "X = data.drop(['class'],axis=1)\n",
    "clf = tree.DecisionTreeClassifier(criterion = 'entropy',\n",
    "max_depth = 1)\n",
    "\n",
    "X_train, X_test, Y_train, Y_test = train_test_split(X, Y,\n",
    "test_size=0.34, random_state=10)\n",
    "\n",
    "clf = clf.fit(X_train, Y_train)\n",
    "Yp = clf.predict(X_train)\n",
    "accTrain = accuracy_score(Y_train, Yp)\n",
    "print(\"Accuracy of the train data:\",accTrain)\n",
    "\n",
    "Yp = clf.predict(X_test)\n",
    "accTest = accuracy_score(Y_test, Yp)\n",
    "print(\"Accuracy of the test data:\",accTest)\n"
   ]
  },
  {
   "cell_type": "markdown",
   "id": "5337325d",
   "metadata": {},
   "source": [
    "As you can see the accuracy of train data is more than test. this is due to that tree is made by train data "
   ]
  },
  {
   "cell_type": "markdown",
   "id": "142f7a6f",
   "metadata": {},
   "source": [
    "# 1.2) infinit-level decition tree ( diabetes data )\n",
    "with max_depth = None"
   ]
  },
  {
   "cell_type": "code",
   "execution_count": 92,
   "id": "fbe2703f",
   "metadata": {},
   "outputs": [
    {
     "name": "stdout",
     "output_type": "stream",
     "text": [
      "Accuracy of the train data: 1.0\n",
      "Accuracy of the test data: 0.7290076335877863\n"
     ]
    }
   ],
   "source": [
    "clf = tree.DecisionTreeClassifier(criterion = 'entropy',\n",
    "max_depth = None)\n",
    "\n",
    "X_train, X_test, Y_train, Y_test = train_test_split(X, Y,\n",
    "test_size=0.34, random_state=10)\n",
    "\n",
    "clf = clf.fit(X_train, Y_train)\n",
    "Yp = clf.predict(X_train)\n",
    "accTrain = accuracy_score(Y_train, Yp)\n",
    "print(\"Accuracy of the train data:\",accTrain)\n",
    "\n",
    "Yp = clf.predict(X_test)\n",
    "accTest = accuracy_score(Y_test, Yp)\n",
    "print(\"Accuracy of the test data:\",accTest)"
   ]
  },
  {
   "cell_type": "markdown",
   "id": "6cf8eef2",
   "metadata": {},
   "source": [
    "-we got above result for multi level decision tree, as you can see the accuracy of the train data is 1 beacuse there is no limitation for tree so we are going to have new branch per each data , but as test it's not one because still there are some data wich not include in tree\n"
   ]
  },
  {
   "cell_type": "markdown",
   "id": "c0e5cc23",
   "metadata": {},
   "source": [
    "With min_samples_leaf as the size of the datasets"
   ]
  },
  {
   "cell_type": "code",
   "execution_count": 93,
   "id": "0c43bf90",
   "metadata": {},
   "outputs": [
    {
     "name": "stdout",
     "output_type": "stream",
     "text": [
      "Accuracy of the train data: 0.6561264822134387\n",
      "Accuracy of the test data: 0.6412213740458015\n"
     ]
    }
   ],
   "source": [
    "clf = tree.DecisionTreeClassifier(criterion = 'entropy',\n",
    "max_depth = None, min_samples_leaf = 768)\n",
    "X_train, X_test, Y_train, Y_test = train_test_split(X, Y,\n",
    "test_size=0.34, random_state=10)\n",
    "clf = clf.fit(X_train, Y_train)\n",
    "Yp = clf.predict(X_train)\n",
    "accTrain = accuracy_score(Y_train, Yp)\n",
    "\n",
    "print(\"Accuracy of the train data:\",accTrain)\n",
    "Yp = clf.predict(X_test)\n",
    "accTest = accuracy_score(Y_test, Yp)\n",
    "print(\"Accuracy of the test data:\",accTest)\n"
   ]
  },
  {
   "cell_type": "markdown",
   "id": "8f30a511",
   "metadata": {},
   "source": [
    "result :"
   ]
  },
  {
   "cell_type": "code",
   "execution_count": 94,
   "id": "0aab0961",
   "metadata": {
    "scrolled": true
   },
   "outputs": [
    {
     "data": {
      "image/png": "[encoded data removed]",
      "text/plain": [
       "<Figure size 432x288 with 1 Axes>"
      ]
     },
     "metadata": {
      "needs_background": "light"
     },
     "output_type": "display_data"
    }
   ],
   "source": [
    "test =[]\n",
    "train = []\n",
    "X_train, X_test, Y_train, Y_test = train_test_split(X, Y,\n",
    "test_size=0.34,random_state=10)\n",
    "for x in range(1,768,5):\n",
    "    clf = tree.DecisionTreeClassifier(criterion = 'entropy',\n",
    "    max_depth = None, min_samples_leaf = x)\n",
    "    clf = clf.fit(X_train, Y_train)\n",
    "    Yp_test = clf.predict(X_test)\n",
    "    Yp_train = clf.predict(X_train)\n",
    "    test.append(accuracy_score(Y_test, Yp_test))\n",
    "    train.append(accuracy_score(Y_train, Yp_train))\n",
    "plt.plot(test,label = 'test')\n",
    "plt.plot(train,label = 'train')\n",
    "plt.ylabel('accuracy')\n",
    "plt.xlabel('min_samples_leaf')\n",
    "plt.legend(loc ='upper center')\n",
    "plt.show()\n"
   ]
  },
  {
   "cell_type": "markdown",
   "id": "50322ab6",
   "metadata": {},
   "source": [
    "from the graph we can observe that: \n",
    "    1- at the begining the min sample leaf is low.\n",
    "    2- multi level tree predict train better than test.\n",
    "    3- with growing min sample leaf train and test geting similar \n",
    " Finally we can see overfitting of data\n"
   ]
  },
  {
   "cell_type": "markdown",
   "id": "dae353ff",
   "metadata": {},
   "source": [
    "# 2.1) one-level decition tree ( Glass data )\n",
    "I'm doing all of the above steps for this glass data too \n",
    "and as result I'm getting the same result \n",
    "\n",
    "\n",
    "With Max_depth 1"
   ]
  },
  {
   "cell_type": "code",
   "execution_count": 95,
   "id": "06b03662",
   "metadata": {},
   "outputs": [
    {
     "name": "stdout",
     "output_type": "stream",
     "text": [
      "Accuracy of the train data: 0.46099290780141844\n",
      "Accuracy of the test data: 0.4246575342465753\n"
     ]
    }
   ],
   "source": [
    "data = pd.read_csv('glass.csv')\n",
    "Y = data['class']\n",
    "X = data.drop(['class'],axis=1)\n",
    "clf = tree.DecisionTreeClassifier(criterion = 'entropy',\n",
    "max_depth = 1)\n",
    "\n",
    "X_train, X_test, Y_train, Y_test = train_test_split(X, Y,\n",
    "test_size=0.34, random_state=10)\n",
    "\n",
    "clf = clf.fit(X_train, Y_train)\n",
    "Yp = clf.predict(X_train)\n",
    "accTrain = accuracy_score(Y_train, Yp)\n",
    "print(\"Accuracy of the train data:\",accTrain)\n",
    "\n",
    "Yp = clf.predict(X_test)\n",
    "accTest = accuracy_score(Y_test, Yp)\n",
    "print(\"Accuracy of the test data:\",accTest)"
   ]
  },
  {
   "cell_type": "markdown",
   "id": "636b700e",
   "metadata": {},
   "source": [
    "# 2.2) infinit-level decition tree ( diabetes data )\n",
    "with max_depth = None"
   ]
  },
  {
   "cell_type": "code",
   "execution_count": 96,
   "id": "abc003ad",
   "metadata": {},
   "outputs": [
    {
     "name": "stdout",
     "output_type": "stream",
     "text": [
      "Accuracy of the train data: 1.0\n",
      "Accuracy of the test data: 0.5753424657534246\n"
     ]
    }
   ],
   "source": [
    "clf = tree.DecisionTreeClassifier(criterion = 'entropy',\n",
    "max_depth = None)\n",
    "\n",
    "X_train, X_test, Y_train, Y_test = train_test_split(X, Y,\n",
    "test_size=0.34, random_state=10)\n",
    "\n",
    "clf = clf.fit(X_train, Y_train)\n",
    "Yp = clf.predict(X_train)\n",
    "accTrain = accuracy_score(Y_train, Yp)\n",
    "print(\"Accuracy of the train data:\",accTrain)\n",
    "\n",
    "Yp = clf.predict(X_test)\n",
    "accTest = accuracy_score(Y_test, Yp)\n",
    "print(\"Accuracy of the test data:\",accTest)"
   ]
  },
  {
   "cell_type": "markdown",
   "id": "dedca0a1",
   "metadata": {},
   "source": [
    "With min_samples_leaf as the size of the datasets"
   ]
  },
  {
   "cell_type": "code",
   "execution_count": 97,
   "id": "9e18a304",
   "metadata": {},
   "outputs": [
    {
     "name": "stdout",
     "output_type": "stream",
     "text": [
      "Accuracy of the train data: 0.3546099290780142\n",
      "Accuracy of the test data: 0.3561643835616438\n"
     ]
    }
   ],
   "source": [
    "clf = tree.DecisionTreeClassifier(criterion = 'entropy',\n",
    "max_depth = None, min_samples_leaf = 768)\n",
    "X_train, X_test, Y_train, Y_test = train_test_split(X, Y,\n",
    "test_size=0.34, random_state=10)\n",
    "clf = clf.fit(X_train, Y_train)\n",
    "Yp = clf.predict(X_train)\n",
    "accTrain = accuracy_score(Y_train, Yp)\n",
    "\n",
    "print(\"Accuracy of the train data:\",accTrain)\n",
    "Yp = clf.predict(X_test)\n",
    "accTest = accuracy_score(Y_test, Yp)\n",
    "print(\"Accuracy of the test data:\",accTest)"
   ]
  },
  {
   "cell_type": "markdown",
   "id": "14b46715",
   "metadata": {},
   "source": [
    "\n",
    "\n",
    "\n"
   ]
  },
  {
   "cell_type": "markdown",
   "id": "c6c4e0a6",
   "metadata": {},
   "source": [
    "Result :\n",
    "with 10 step \n"
   ]
  },
  {
   "cell_type": "code",
   "execution_count": 98,
   "id": "a64ca8c7",
   "metadata": {},
   "outputs": [
    {
     "data": {
      "image/png": "[encoded data removed]",
      "text/plain": [
       "<Figure size 432x288 with 1 Axes>"
      ]
     },
     "metadata": {
      "needs_background": "light"
     },
     "output_type": "display_data"
    }
   ],
   "source": [
    "test =[]\n",
    "train = []\n",
    "X_train, X_test, Y_train, Y_test = train_test_split(X, Y,\n",
    "test_size=0.34,random_state=10)\n",
    "for x in range(1,768,10):\n",
    "    clf = tree.DecisionTreeClassifier(criterion = 'entropy',\n",
    "    max_depth = None, min_samples_leaf = x)\n",
    "    clf = clf.fit(X_train, Y_train)\n",
    "    Yp_test = clf.predict(X_test)\n",
    "    Yp_train = clf.predict(X_train)\n",
    "    test.append(accuracy_score(Y_test, Yp_test))\n",
    "    train.append(accuracy_score(Y_train, Yp_train))\n",
    "plt.plot(test,label = 'test')\n",
    "plt.plot(train,label = 'train')\n",
    "plt.ylabel('accuracy')\n",
    "plt.xlabel('min_samples_leaf')\n",
    "plt.legend(loc ='upper center')\n",
    "plt.show()"
   ]
  }
 ],
 "metadata": {
  "kernelspec": {
   "display_name": "Python 3",
   "language": "python",
   "name": "python3"
  },
  "language_info": {
   "codemirror_mode": {
    "name": "ipython",
    "version": 3
   },
   "file_extension": ".py",
   "mimetype": "text/x-python",
   "name": "python",
   "nbconvert_exporter": "python",
   "pygments_lexer": "ipython3",
   "version": "3.8.8"
  }
 },
 "nbformat": 4,
 "nbformat_minor": 5
}
