{
 "cells": [
  {
   "cell_type": "markdown",
   "id": "e65628a0",
   "metadata": {},
   "source": [
    "# Data For Diabites "
   ]
  },
  {
   "cell_type": "code",
   "execution_count": 1,
   "id": "9eaf4d6a",
   "metadata": {},
   "outputs": [],
   "source": [
    "# Class of k-Nearest Neigbor Classifier\n",
    "\n",
    "\n",
    "class kNN():\n",
    "    maxTrain = []\n",
    "    \n",
    "    def __init__(self, k = 3, exp = 2):\n",
    "    # constructor for kNN classifier \n",
    "    # k is the number of neighbor for local class estimation\n",
    "    # exp is the exponent for the Minkowski distance\n",
    "        self.k = k\n",
    "        self.exp = exp\n",
    "      \n",
    "    def fit(self, X_train, Y_train):\n",
    "    # training k-NN method\n",
    "    # X_train is the training data given with input attributes. n-th row correponds to n-th instance.\n",
    "    # Y_train is the output data (output vector): n-th element of Y_train is the output value for n-th instance in X_train.\n",
    "        self.X_train = X_train\n",
    "        self.Y_train = Y_train   \n",
    "         \n",
    "    def getDiscreteClassification(self, X_test):\n",
    "    # predict-class k-NN method\n",
    "    # X_test is the test data given with input attributes. Rows correpond to instances\n",
    "    # Method outputs prediction vector Y_pred_test:  n-th element of Y_pred_test is the prediction for n-th instance in X_test\n",
    "    \n",
    "        Y_pred_test = [] #prediction vector Y_pred_test for all the test instances in X_test is initialized to empty list []\n",
    "\n",
    "   \n",
    "        for i in range(len(X_test)):   #iterate over all instances in X_test\n",
    "            test_instance = X_test.iloc[i] #i-th test instance \n",
    "            \n",
    "            distances = []  #list of distances of the i-th test_instance for all the train_instance s in X_train, initially empty.\n",
    "          \n",
    "            for j in range(len(self.X_train)):  #iterate over all instances in X_train\n",
    "                train_instance = self.X_train.iloc[j] #j-th training instance \n",
    "                distance = self.Minkowski_distance(test_instance, train_instance) #distance between i-th test instance and j-th training instance  \n",
    "                distances.append(distance) #add the distance to the list of distances of the i-th test_instance\n",
    "        \n",
    "            # Store distances in a dataframe. The dataframe has the index of Y_train in order to keep the correspondence with the classes of the training instances \n",
    "            df_dists = pd.DataFrame(data=distances, columns=['dist'], index = self.Y_train.index)\n",
    "        \n",
    "            # Sort distances, and only consider the k closest points in the new dataframe df_knn\n",
    "            df_nn = df_dists.sort_values(by=['dist'], axis=0)\n",
    "            df_knn =  df_nn[:self.k]\n",
    "            \n",
    "            # Note that the index df_knn.index of df_knn contains indices in Y_train of the k-closed training instances to \n",
    "            # the i-th test instance. Thus, the dataframe self.Y_train[df_knn.index] contains the classes of those k-closed \n",
    "            # training instances. Method value_counts() computes the counts (number of occurencies) for each class in \n",
    "            # self.Y_train[df_knn.index] in dataframe predictions. \n",
    "            predictions = self.Y_train[df_knn.index].value_counts()\n",
    "                 \n",
    "            # the first element of the index predictions.index contains the class with the highest count; i.e. the prediction y_pred_test.\n",
    "            y_pred_test = predictions.index[0]\n",
    "\n",
    "            # add the prediction y_pred_test to the prediction vector Y_pred_test for all the test instances in X_test\n",
    "            Y_pred_test.append(y_pred_test)\n",
    "        \n",
    "        return Y_pred_test\n",
    "\n",
    "    \n",
    "    def Minkowski_distance(self, x1, x2):\n",
    "    # computes the Minkowski distance of x1 and x2 for two labeled instances (x1,y1) and (x2,y2)\n",
    "    \n",
    "        # Set initial distance to 0\n",
    "        distance = 0\n",
    "    \n",
    "        # Calculate Minkowski distance using the exponent exp\n",
    "        for i in range(len(x1)):\n",
    "            distance = distance + abs(x1[i] - x2[i])**self.exp\n",
    "        \n",
    "        distance = distance**(1/self.exp)\n",
    "    \n",
    "        return distance\n",
    "    \n",
    "    def normilize_maximum_absolute_scaling(self,df):   \n",
    "        # copy the dataframe\n",
    "        df_scaled = df.copy()\n",
    "        # apply maximum absolute scaling \n",
    "        for column in df_scaled.columns:  \n",
    "              df_scaled[column] = df_scaled[column]  / df_scaled[column].abs().max()\n",
    "           \n",
    "        return df_scaled\n"
   ]
  },
  {
   "cell_type": "markdown",
   "id": "ae3d957a",
   "metadata": {},
   "source": [
    "Original Data"
   ]
  },
  {
   "cell_type": "code",
   "execution_count": 7,
   "id": "b31feb49",
   "metadata": {},
   "outputs": [
    {
     "name": "stdout",
     "output_type": "stream",
     "text": [
      "     preg  plas  pres  skin  insu  mass   pedi  age\n",
      "659     3    80    82    31    70  34.2  1.292   27\n",
      "439     6   107    88     0     0  36.8  0.727   31\n",
      "72     13   126    90     0     0  43.4  0.583   42\n",
      "329     6   105    70    32    68  30.8  0.122   37\n",
      "692     2   121    70    32    95  39.1  0.886   23\n",
      "..    ...   ...   ...   ...   ...   ...    ...  ...\n",
      "369     1   133   102    28   140  32.8  0.234   45\n",
      "320     4   129    60    12   231  27.5  0.527   31\n",
      "527     3   116    74    15   105  26.3  0.107   24\n",
      "125     1    88    30    42    99  55.0  0.496   26\n",
      "265     5    96    74    18    67  33.6  0.997   43\n",
      "\n",
      "[506 rows x 8 columns]\n",
      "     preg  plas  pres  skin  insu  mass   pedi  age\n",
      "568     4   154    72    29   126  31.3  0.338   37\n",
      "620     2   112    86    42   160  38.4  0.246   28\n",
      "456     1   135    54     0     0  26.7  0.687   62\n",
      "197     3   107    62    13    48  22.9  0.678   23\n",
      "714     3   102    74     0     0  29.5  0.121   32\n",
      "..    ...   ...   ...   ...   ...   ...    ...  ...\n",
      "581     6   109    60    27     0  25.0  0.206   27\n",
      "300     0   167     0     0     0  32.3  0.839   30\n",
      "110     3   171    72    33   135  33.3  0.199   24\n",
      "450     1    82    64    13    95  21.2  0.415   23\n",
      "21      8    99    84     0     0  35.4  0.388   50\n",
      "\n",
      "[262 rows x 8 columns]\n"
     ]
    },
    {
     "data": {
      "text/plain": [
       "Text(0, 0.5, 'Accuracy')"
      ]
     },
     "execution_count": 7,
     "metadata": {},
     "output_type": "execute_result"
    },
    {
     "data": {
      "image/png": "[encoded data removed]",
      "text/plain": [
       "<Figure size 432x288 with 1 Axes>"
      ]
     },
     "metadata": {
      "needs_background": "light"
     },
     "output_type": "display_data"
    }
   ],
   "source": [
    "import matplotlib.pyplot as plt\n",
    "import numpy as np\n",
    "import pandas as pd\n",
    "from sklearn.model_selection import train_test_split \n",
    "\n",
    "from numpy.random import random\n",
    "from sklearn.metrics import accuracy_score\n",
    "\n",
    "##################################################\n",
    "# Hold-out testing: Training and Test set creation\n",
    "##################################################\n",
    "\n",
    "data = pd.read_csv('diabetes.csv')\n",
    "data.head()\n",
    "Y = data['class']\n",
    "X = data.drop(['class'],axis=1)\n",
    "\n",
    "X_train, X_test, Y_train, Y_test = train_test_split(X, Y, test_size=0.34, random_state=10)\n",
    "\n",
    "# range for the values of parameter k for kNN\n",
    "\n",
    "k_range = [1, 3, 5, 7, 9, 11, 13, 15, 17, 19, 21, 23, 25, 27, 29, 31]\n",
    "\n",
    "trainAcc = np.zeros(len(k_range))\n",
    "testAcc = np.zeros(len(k_range))\n",
    "\n",
    "\n",
    "index = 0 \n",
    "for k  in  k_range:\n",
    "    clf = kNN(k)\n",
    "    clf.fit(X_train, Y_train)\n",
    "    Y_predTrain = clf.getDiscreteClassification(X_train)\n",
    "    Y_predTest = clf.getDiscreteClassification(X_test)\n",
    "    trainAcc[index] = accuracy_score(Y_train, Y_predTrain)\n",
    "    testAcc[index] = accuracy_score(Y_test, Y_predTest)\n",
    "    index += 1\n",
    "   \n",
    "    \n",
    "#########################################\n",
    "# Plot of training and test accuracies\n",
    "#########################################\n",
    "print(X_train)\n",
    "print(X_test)\n",
    "\n",
    "plt.plot(k_range,trainAcc,'ro-',k_range,testAcc,'bv--')\n",
    "plt.legend(['Training Accuracy','Test Accuracy'])\n",
    "plt.xlabel('k')\n",
    "plt.ylabel('Accuracy')"
   ]
  },
  {
   "cell_type": "markdown",
   "id": "bf503b9c",
   "metadata": {},
   "source": [
    "Normilize Data"
   ]
  },
  {
   "cell_type": "code",
   "execution_count": 4,
   "id": "6a17f72a",
   "metadata": {},
   "outputs": [
    {
     "name": "stdout",
     "output_type": "stream",
     "text": [
      "         preg      plas      pres      skin      insu      mass      pedi  \\\n",
      "659  0.176471  0.402010  0.672131  0.313131  0.082742  0.509687  0.533884   \n",
      "439  0.352941  0.537688  0.721311  0.000000  0.000000  0.548435  0.300413   \n",
      "72   0.764706  0.633166  0.737705  0.000000  0.000000  0.646796  0.240909   \n",
      "329  0.352941  0.527638  0.573770  0.323232  0.080378  0.459016  0.050413   \n",
      "692  0.117647  0.608040  0.573770  0.323232  0.112293  0.582712  0.366116   \n",
      "..        ...       ...       ...       ...       ...       ...       ...   \n",
      "369  0.058824  0.668342  0.836066  0.282828  0.165485  0.488823  0.096694   \n",
      "320  0.235294  0.648241  0.491803  0.121212  0.273050  0.409836  0.217769   \n",
      "527  0.176471  0.582915  0.606557  0.151515  0.124113  0.391952  0.044215   \n",
      "125  0.058824  0.442211  0.245902  0.424242  0.117021  0.819672  0.204959   \n",
      "265  0.294118  0.482412  0.606557  0.181818  0.079196  0.500745  0.411983   \n",
      "\n",
      "          age  \n",
      "659  0.333333  \n",
      "439  0.382716  \n",
      "72   0.518519  \n",
      "329  0.456790  \n",
      "692  0.283951  \n",
      "..        ...  \n",
      "369  0.555556  \n",
      "320  0.382716  \n",
      "527  0.296296  \n",
      "125  0.320988  \n",
      "265  0.530864  \n",
      "\n",
      "[506 rows x 8 columns]\n",
      "         preg      plas      pres      skin      insu      mass      pedi  \\\n",
      "568  0.285714  0.781726  0.654545  0.483333  0.259794  0.588346  0.178553   \n",
      "620  0.142857  0.568528  0.781818  0.700000  0.329897  0.721805  0.129952   \n",
      "456  0.071429  0.685279  0.490909  0.000000  0.000000  0.501880  0.362916   \n",
      "197  0.214286  0.543147  0.563636  0.216667  0.098969  0.430451  0.358162   \n",
      "714  0.214286  0.517766  0.672727  0.000000  0.000000  0.554511  0.063920   \n",
      "..        ...       ...       ...       ...       ...       ...       ...   \n",
      "581  0.428571  0.553299  0.545455  0.450000  0.000000  0.469925  0.108822   \n",
      "300  0.000000  0.847716  0.000000  0.000000  0.000000  0.607143  0.443212   \n",
      "110  0.214286  0.868020  0.654545  0.550000  0.278351  0.625940  0.105124   \n",
      "450  0.071429  0.416244  0.581818  0.216667  0.195876  0.398496  0.219229   \n",
      "21   0.571429  0.502538  0.763636  0.000000  0.000000  0.665414  0.204966   \n",
      "\n",
      "          age  \n",
      "568  0.536232  \n",
      "620  0.405797  \n",
      "456  0.898551  \n",
      "197  0.333333  \n",
      "714  0.463768  \n",
      "..        ...  \n",
      "581  0.391304  \n",
      "300  0.434783  \n",
      "110  0.347826  \n",
      "450  0.333333  \n",
      "21   0.724638  \n",
      "\n",
      "[262 rows x 8 columns]\n"
     ]
    },
    {
     "data": {
      "text/plain": [
       "Text(0, 0.5, 'Accuracy')"
      ]
     },
     "execution_count": 4,
     "metadata": {},
     "output_type": "execute_result"
    },
    {
     "data": {
      "image/png": "[encoded data removed]",
      "text/plain": [
       "<Figure size 432x288 with 1 Axes>"
      ]
     },
     "metadata": {
      "needs_background": "light"
     },
     "output_type": "display_data"
    }
   ],
   "source": [
    "import matplotlib.pyplot as plt\n",
    "import numpy as np\n",
    "import pandas as pd\n",
    "from sklearn.model_selection import train_test_split \n",
    "\n",
    "from numpy.random import random\n",
    "from sklearn.metrics import accuracy_score\n",
    "\n",
    "##################################################\n",
    "# Hold-out testing: Training and Test set creation\n",
    "##################################################\n",
    "\n",
    "data = pd.read_csv('diabetes.csv')\n",
    "data.head()\n",
    "Y = data['class']\n",
    "X = data.drop(['class'],axis=1)\n",
    "\n",
    "X_train, X_test, Y_train, Y_test = train_test_split(X, Y, test_size=0.34, random_state=10)\n",
    "\n",
    "\n",
    "# range for the values of parameter k for kNN\n",
    "\n",
    "k_range = [1, 3, 5, 7, 9, 11, 13, 15, 17, 19, 21, 23, 25, 27, 29, 31]\n",
    "\n",
    "trainAcc = np.zeros(len(k_range))\n",
    "testAcc = np.zeros(len(k_range))\n",
    "\n",
    "index = 0 \n",
    "for k  in  k_range:\n",
    "    clf = kNN(k)\n",
    "    \n",
    "    X_train = clf.normilize_maximum_absolute_scaling(X_train)\n",
    "    X_test = clf.normilize_maximum_absolute_scaling(X_test)\n",
    "    clf.fit(X_train, Y_train)\n",
    "    Y_predTrain = clf.getDiscreteClassification(X_train)\n",
    "    Y_predTest = clf.getDiscreteClassification(X_test)\n",
    "    trainAcc[index] = accuracy_score(Y_train, Y_predTrain)\n",
    "    testAcc[index] = accuracy_score(Y_test, Y_predTest)\n",
    "    index += 1\n",
    "\n",
    "   \n",
    "    \n",
    "# #########################################\n",
    "# # Plot of training and test accuracies\n",
    "# #########################################\n",
    "# # trainAcc\n",
    "print(X_train)\n",
    "print(X_test)\n",
    "\n",
    "plt.plot(k_range,trainAcc,'ro-',k_range,testAcc,'bv--')\n",
    "plt.legend(['Training Accuracy','Test Accuracy'])\n",
    "plt.xlabel('k')\n",
    "plt.ylabel('Accuracy')\n"
   ]
  },
  {
   "cell_type": "markdown",
   "id": "1a00995c",
   "metadata": {},
   "source": [
    "# changing exp for Diabites data"
   ]
  },
  {
   "cell_type": "markdown",
   "id": "bbe54b02",
   "metadata": {},
   "source": [
    "Not Normalize"
   ]
  },
  {
   "cell_type": "code",
   "execution_count": 5,
   "id": "9d2bf118",
   "metadata": {},
   "outputs": [
    {
     "name": "stderr",
     "output_type": "stream",
     "text": [
      "<ipython-input-1-c08c10cd0486>:69: RuntimeWarning: overflow encountered in double_scalars\n",
      "  distance = distance + abs(x1[i] - x2[i])**self.exp\n"
     ]
    },
    {
     "data": {
      "text/plain": [
       "Text(0, 0.5, 'Accuracy')"
      ]
     },
     "execution_count": 5,
     "metadata": {},
     "output_type": "execute_result"
    },
    {
     "data": {
      "image/png": "[encoded data removed]",
      "text/plain": [
       "<Figure size 432x288 with 1 Axes>"
      ]
     },
     "metadata": {
      "needs_background": "light"
     },
     "output_type": "display_data"
    }
   ],
   "source": [
    "import matplotlib.pyplot as plt\n",
    "import numpy as np\n",
    "from sklearn.metrics import accuracy_score\n",
    "from numpy.random import random\n",
    "\n",
    "##################################################\n",
    "# Hold-out testing: Training and Test set creation\n",
    "##################################################\n",
    "\n",
    "data = pd.read_csv('diabetes.csv')\n",
    "data.head()\n",
    "Y = data['class']\n",
    "X = data.drop(['class'],axis=1)\n",
    "\n",
    "X_train, X_test, Y_train, Y_test = train_test_split(X, Y, test_size=0.34, random_state=10)\n",
    "\n",
    "\n",
    "# range for the values of parameter exp for kNN\n",
    "\n",
    "exp_range = [2,  100, 10000]\n",
    "\n",
    "trainAcc = np.zeros(len(exp_range))\n",
    "testAcc = np.zeros(len(exp_range))\n",
    "\n",
    "\n",
    "index = 0 \n",
    "for exp  in  exp_range:\n",
    "    clf = kNN(k = 3, exp = exp)\n",
    "    clf.fit(X_train, Y_train)\n",
    "    Y_predTrain = clf.getDiscreteClassification(X_train)\n",
    "    Y_predTest = clf.getDiscreteClassification(X_test)\n",
    "    trainAcc[index] = accuracy_score(Y_train, Y_predTrain)\n",
    "    testAcc[index] = accuracy_score(Y_test, Y_predTest)\n",
    "    index += 1\n",
    "   \n",
    "    \n",
    "#########################################\n",
    "# Plot of training and test accuracies\n",
    "#########################################\n",
    "\n",
    "\n",
    "plt.plot(exp_range,trainAcc,'ro-',exp_range,testAcc,'bv--')\n",
    "plt.legend(['Training Accuracy','Test Accuracy'])\n",
    "plt.xlabel('exp')\n",
    "plt.ylabel('Accuracy')\n"
   ]
  },
  {
   "cell_type": "markdown",
   "id": "71fb5ce5",
   "metadata": {},
   "source": [
    "Normilize"
   ]
  },
  {
   "cell_type": "code",
   "execution_count": null,
   "id": "9a16f716",
   "metadata": {},
   "outputs": [],
   "source": [
    "import matplotlib.pyplot as plt\n",
    "import numpy as np\n",
    "import pandas as pd\n",
    "from sklearn.model_selection import train_test_split \n",
    "\n",
    "from numpy.random import random\n",
    "from sklearn.metrics import accuracy_score\n",
    "\n",
    "##################################################\n",
    "# Normalize testing: Training and Test set creation\n",
    "##################################################\n",
    "\n",
    "data = pd.read_csv('glass.csv')\n",
    "data.head()\n",
    "Y = data['class']\n",
    "X = data.drop(['class'],axis=1)\n",
    "\n",
    "X_train, X_test, Y_train, Y_test = train_test_split(X, Y, test_size=0.34, random_state=10)\n",
    "\n",
    "\n",
    "# range for the values of parameter exp for kNN\n",
    "\n",
    "exp_range = [2,  100, 10000]\n",
    "\n",
    "trainAcc = np.zeros(len(exp_range))\n",
    "testAcc = np.zeros(len(exp_range))\n",
    "\n",
    "\n",
    "index = 0 \n",
    "for exp  in  exp_range:\n",
    "    \n",
    "    clf = kNN(k = 3, exp = exp)\n",
    "    X_train = clf.normilize_maximum_absolute_scaling(X_train)\n",
    "    X_test = clf.normilize_maximum_absolute_scaling(X_test)\n",
    "    clf.fit(X_train, Y_train)\n",
    "    Y_predTrain = clf.getDiscreteClassification(X_train)\n",
    "    Y_predTest = clf.getDiscreteClassification(X_test)\n",
    "    trainAcc[index] = accuracy_score(Y_train, Y_predTrain)\n",
    "    testAcc[index] = accuracy_score(Y_test, Y_predTest)\n",
    "    index += 1\n",
    "\n",
    "    \n",
    "# #########################################\n",
    "# # Plot of training and test accuracies\n",
    "# #########################################\n",
    "# # trainAcc\n",
    "print(X_train)\n",
    "print(X_test)\n",
    "\n",
    "plt.plot(exp_range,trainAcc,'ro-',exp_range,testAcc,'bv--')\n",
    "plt.legend(['Training Accuracy','Test Accuracy'])\n",
    "plt.xlabel('exp')\n",
    "plt.ylabel('Accuracy')"
   ]
  },
  {
   "cell_type": "code",
   "execution_count": null,
   "id": "ebf0ffb8",
   "metadata": {},
   "outputs": [],
   "source": []
  }
 ],
 "metadata": {
  "kernelspec": {
   "display_name": "Python 3",
   "language": "python",
   "name": "python3"
  },
  "language_info": {
   "codemirror_mode": {
    "name": "ipython",
    "version": 3
   },
   "file_extension": ".py",
   "mimetype": "text/x-python",
   "name": "python",
   "nbconvert_exporter": "python",
   "pygments_lexer": "ipython3",
   "version": "3.8.8"
  }
 },
 "nbformat": 4,
 "nbformat_minor": 5
}
