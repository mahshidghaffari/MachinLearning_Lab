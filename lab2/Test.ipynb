{
 "cells": [
  {
   "cell_type": "code",
   "execution_count": 63,
   "id": "79b17a6e",
   "metadata": {},
   "outputs": [
    {
     "name": "stdout",
     "output_type": "stream",
     "text": [
      "   odometer_reading  fuel_economy\n",
      "0            120000          11.0\n",
      "1            250000          11.5\n",
      "2            175000          15.8\n",
      "3            350000          17.0\n",
      "4            400000          10.0\n",
      "kkkkkkkkkkkkkkkkkkkkkkkkkkkkkkkkkkkkkkkkk\n",
      "120000\n",
      "11.0\n"
     ]
    }
   ],
   "source": [
    "import pandas as pd\n",
    "import matplotlib.pyplot as plt\n",
    "df_cars = pd.DataFrame([[120000, 11], [250000, 11.5], [175000, 15.8], [350000, 17], [400000, 10]],\n",
    "                       columns=['odometer_reading', 'fuel_economy'])\n",
    "\n",
    "\n",
    "print(df_cars)\n",
    "# plt.plot(df_cars)\n",
    "print(\"kkkkkkkkkkkkkkkkkkkkkkkkkkkkkkkkkkkkkkkkk\")\n",
    "\n",
    "\n",
    "for col_name, data in df_cars.items():\n",
    "\tprint(data[0])\n",
    "\n"
   ]
  },
  {
   "cell_type": "code",
   "execution_count": 52,
   "id": "027dd144",
   "metadata": {},
   "outputs": [
    {
     "data": {
      "text/plain": [
       "[<matplotlib.lines.Line2D at 0x7f85495f4700>,\n",
       " <matplotlib.lines.Line2D at 0x7f85495f4730>]"
      ]
     },
     "execution_count": 52,
     "metadata": {},
     "output_type": "execute_result"
    },
    {
     "data": {
      "image/png": "[encoded data removed]",
      "text/plain": [
       "<Figure size 432x288 with 1 Axes>"
      ]
     },
     "metadata": {
      "needs_background": "light"
     },
     "output_type": "display_data"
    }
   ],
   "source": [
    "\n",
    "plt.plot(df_cars)"
   ]
  },
  {
   "cell_type": "code",
   "execution_count": 53,
   "id": "197374ba",
   "metadata": {},
   "outputs": [
    {
     "data": {
      "text/html": [
       "<div>\n",
       "<style scoped>\n",
       "    .dataframe tbody tr th:only-of-type {\n",
       "        vertical-align: middle;\n",
       "    }\n",
       "\n",
       "    .dataframe tbody tr th {\n",
       "        vertical-align: top;\n",
       "    }\n",
       "\n",
       "    .dataframe thead th {\n",
       "        text-align: right;\n",
       "    }\n",
       "</style>\n",
       "<table border=\"1\" class=\"dataframe\">\n",
       "  <thead>\n",
       "    <tr style=\"text-align: right;\">\n",
       "      <th></th>\n",
       "      <th>odometer_reading</th>\n",
       "      <th>fuel_economy</th>\n",
       "    </tr>\n",
       "  </thead>\n",
       "  <tbody>\n",
       "    <tr>\n",
       "      <th>0</th>\n",
       "      <td>0.3000</td>\n",
       "      <td>0.647059</td>\n",
       "    </tr>\n",
       "    <tr>\n",
       "      <th>1</th>\n",
       "      <td>0.6250</td>\n",
       "      <td>0.676471</td>\n",
       "    </tr>\n",
       "    <tr>\n",
       "      <th>2</th>\n",
       "      <td>0.4375</td>\n",
       "      <td>0.929412</td>\n",
       "    </tr>\n",
       "    <tr>\n",
       "      <th>3</th>\n",
       "      <td>0.8750</td>\n",
       "      <td>1.000000</td>\n",
       "    </tr>\n",
       "    <tr>\n",
       "      <th>4</th>\n",
       "      <td>1.0000</td>\n",
       "      <td>0.588235</td>\n",
       "    </tr>\n",
       "  </tbody>\n",
       "</table>\n",
       "</div>"
      ],
      "text/plain": [
       "   odometer_reading  fuel_economy\n",
       "0            0.3000      0.647059\n",
       "1            0.6250      0.676471\n",
       "2            0.4375      0.929412\n",
       "3            0.8750      1.000000\n",
       "4            1.0000      0.588235"
      ]
     },
     "execution_count": 53,
     "metadata": {},
     "output_type": "execute_result"
    }
   ],
   "source": [
    "# apply the maximum absolute scaling in Pandas using the .abs() and .max() methods\n",
    "def maximum_absolute_scaling(df):\n",
    "    # copy the dataframe\n",
    "    df_scaled = df.copy()\n",
    "    # apply maximum absolute scaling\n",
    "    for column in df_scaled.columns:\n",
    "        df_scaled[column] = df_scaled[column]  / df_scaled[column].abs().max()\n",
    "    return df_scaled\n",
    "    \n",
    "# call the maximum_absolute_scaling function\n",
    "df_cars_scaled = maximum_absolute_scaling(df_cars)\n",
    "\n",
    "df_cars_scaled"
   ]
  },
  {
   "cell_type": "code",
   "execution_count": 8,
   "id": "4604ad5c",
   "metadata": {},
   "outputs": [
    {
     "data": {
      "text/plain": [
       "[<matplotlib.lines.Line2D at 0x7f8549bd2490>,\n",
       " <matplotlib.lines.Line2D at 0x7f8549bd2460>]"
      ]
     },
     "execution_count": 8,
     "metadata": {},
     "output_type": "execute_result"
    },
    {
     "data": {
      "image/png": "[encoded data removed]",
      "text/plain": [
       "<Figure size 432x288 with 1 Axes>"
      ]
     },
     "metadata": {
      "needs_background": "light"
     },
     "output_type": "display_data"
    }
   ],
   "source": [
    "plt.plot(df_cars_scaled)"
   ]
  },
  {
   "cell_type": "code",
   "execution_count": 18,
   "id": "d6801f7d",
   "metadata": {},
   "outputs": [
    {
     "name": "stdout",
     "output_type": "stream",
     "text": [
      "not \n"
     ]
    }
   ],
   "source": [
    "def test (test):\n",
    "    if test: \n",
    "        print (\"the test is true\")\n",
    "    else: \n",
    "        print (\"not \")\n",
    "        \n",
    "      \n",
    "test(False)"
   ]
  },
  {
   "cell_type": "code",
   "execution_count": null,
   "id": "6363165e",
   "metadata": {},
   "outputs": [],
   "source": []
  }
 ],
 "metadata": {
  "kernelspec": {
   "display_name": "Python 3",
   "language": "python",
   "name": "python3"
  },
  "language_info": {
   "codemirror_mode": {
    "name": "ipython",
    "version": 3
   },
   "file_extension": ".py",
   "mimetype": "text/x-python",
   "name": "python",
   "nbconvert_exporter": "python",
   "pygments_lexer": "ipython3",
   "version": "3.8.8"
  }
 },
 "nbformat": 4,
 "nbformat_minor": 5
}
