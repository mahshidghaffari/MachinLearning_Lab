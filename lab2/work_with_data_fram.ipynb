{
 "cells": [
  {
   "cell_type": "code",
   "execution_count": 34,
   "id": "15d17346",
   "metadata": {},
   "outputs": [
    {
     "name": "stdout",
     "output_type": "stream",
     "text": [
      "Empty DataFrame\n",
      "Columns: []\n",
      "Index: []\n",
      "     name  level\n",
      "0    java      5\n",
      "1  python      3\n",
      "2      js      3\n",
      "3  matlab      5\n",
      "4       R      1\n",
      "5     php      1\n",
      "[5, 3, 3, 5, 1, 1]\n",
      "[5, 3, 1]\n"
     ]
    }
   ],
   "source": [
    "import pandas as pd \n",
    "\n",
    "\n",
    "# make an empty datafram\n",
    "df = pd.DataFrame();\n",
    "\n",
    "\n",
    "#print empty data frame\n",
    "print (df)\n",
    "\n",
    "\n",
    "#create data frame using list\n",
    "lst = {'name':['java' , 'python', 'js', 'matlab',' R' , 'php'], 'level':[5,3,3,5,1,1]}\n",
    "df_lst = pd.DataFrame(lst)\n",
    "\n",
    "print(df_lst)\n",
    "\n",
    "\n",
    "col_level = df_lst['level'].tolist()\n",
    "print(col_level)\n",
    "\n",
    "col_level_no_dublicate =  list(dict.fromkeys(col_level))\n",
    "print(col_level_no_dublicate)"
   ]
  },
  {
   "cell_type": "code",
   "execution_count": null,
   "id": "a2c9a48a",
   "metadata": {},
   "outputs": [],
   "source": []
  },
  {
   "cell_type": "code",
   "execution_count": null,
   "id": "c78fed2b",
   "metadata": {},
   "outputs": [],
   "source": []
  }
 ],
 "metadata": {
  "kernelspec": {
   "display_name": "Python 3",
   "language": "python",
   "name": "python3"
  },
  "language_info": {
   "codemirror_mode": {
    "name": "ipython",
    "version": 3
   },
   "file_extension": ".py",
   "mimetype": "text/x-python",
   "name": "python",
   "nbconvert_exporter": "python",
   "pygments_lexer": "ipython3",
   "version": "3.8.8"
  }
 },
 "nbformat": 4,
 "nbformat_minor": 5
}
